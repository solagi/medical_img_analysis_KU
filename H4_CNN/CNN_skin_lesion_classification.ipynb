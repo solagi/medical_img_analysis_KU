{
  "cells": [
    {
      "cell_type": "markdown",
      "metadata": {
        "id": "JCTTZcA3woln"
      },
      "source": [
        "# CNN for skin lesion classification dataset\n",
        "Implementation of the task to design and evaluate Convolutional Neural Network (CNN) for skin lesion classification task. Provided dataset consisted of 900 skin lesion images with binary classification labels *(malignant/benign).*\n"
      ]
    },
    {
      "cell_type": "code",
      "execution_count": null,
      "metadata": {
        "colab": {
          "base_uri": "https://localhost:8080/",
          "height": 53
        },
        "id": "7D5pEwfPz9V9",
        "outputId": "c9a130b4-c10b-4db3-c395-f4c504063b58"
      },
      "outputs": [],
      "source": [
        "import os\n",
        "from google.colab import drive\n",
        "\n",
        "drive.mount('/content/gdrive')\n",
        "root_path = 'gdrive/My Drive/KU MIA/Handin 4'  \n",
        "os.chdir(root_path)\n",
        "os.getcwd()"
      ]
    },
    {
      "cell_type": "markdown",
      "metadata": {
        "id": "TrVpYbgYwolu"
      },
      "source": [
        "## Preparing train and test sets\n"
      ]
    },
    {
      "cell_type": "markdown",
      "metadata": {
        "id": "qlTVzSANwUOZ"
      },
      "source": [
        "### Image data"
      ]
    },
    {
      "cell_type": "code",
      "execution_count": null,
      "metadata": {
        "colab": {
          "base_uri": "https://localhost:8080/",
          "height": 286
        },
        "id": "5eAXVAPDwolv",
        "outputId": "a6933719-0868-495b-c9b3-94913c1c991d"
      },
      "outputs": [],
      "source": [
        "from PIL import Image\n",
        "import numpy as np\n",
        "from matplotlib import pyplot as plt\n",
        "\n",
        "lesionImg = Image.open(\"Skin lesion data/TrainData/imagesTrain/ISIC_0000001.jpg\") \n",
        "plt.imshow(lesionImg)"
      ]
    },
    {
      "cell_type": "code",
      "execution_count": 3,
      "metadata": {
        "id": "BWEMVAOQqtfw"
      },
      "outputs": [],
      "source": [
        "import os\n",
        "import glob\n",
        "\n",
        "TRAIN_MASK_ROOT = \"Skin lesion data/TrainData/imagesTrain\"\n",
        "TEST_MASK_ROOT = \"Skin lesion data/TrainData/imagesTest\""
      ]
    },
    {
      "cell_type": "code",
      "execution_count": null,
      "metadata": {
        "colab": {
          "base_uri": "https://localhost:8080/"
        },
        "id": "73wSN8xyq4Xa",
        "outputId": "c5f0772b-16d9-4eb6-cae2-6d5bd0b4ddc4"
      },
      "outputs": [],
      "source": [
        "n_train_cases = len(os.listdir(f\"{TRAIN_MASK_ROOT}/\"))\n",
        "n_test_cases = len(os.listdir(f\"{TEST_MASK_ROOT}/\"))\n",
        "print(f\"Found {n_train_cases} train cases\")\n",
        "print(f\"Found {n_test_cases} test cases\")"
      ]
    },
    {
      "cell_type": "code",
      "execution_count": 5,
      "metadata": {
        "id": "T6jCvH6Wr4Rb"
      },
      "outputs": [],
      "source": [
        "train_img = sorted(os.listdir(f\"{TRAIN_MASK_ROOT}/\"))\n",
        "test_img = sorted(os.listdir(f\"{TEST_MASK_ROOT}/\"))"
      ]
    },
    {
      "cell_type": "code",
      "execution_count": 6,
      "metadata": {
        "id": "zt0Sy2v3rWLK"
      },
      "outputs": [],
      "source": [
        "def get_image_as_array(image_name, root_path):\n",
        "    loaded_img = np.array(Image.open(f\"{root_path}/{image_name}\"))\n",
        "    img_arr = loaded_img / 255\n",
        "    img_arr.resize((256,256))\n",
        "    return img_arr"
      ]
    },
    {
      "cell_type": "code",
      "execution_count": null,
      "metadata": {
        "colab": {
          "base_uri": "https://localhost:8080/"
        },
        "id": "4ccASP-_rZFA",
        "outputId": "0ea206e8-c299-4892-bb2d-617c2317880e"
      },
      "outputs": [],
      "source": [
        "im_array_training = np.stack([get_image_as_array(x, TRAIN_MASK_ROOT) for x in train_img], 0)\n",
        "im_array_testing = np.stack([get_image_as_array(x, TEST_MASK_ROOT) for x in test_img], 0)\n",
        "\n",
        "print(\"Completed loading data\")"
      ]
    },
    {
      "cell_type": "code",
      "execution_count": null,
      "metadata": {
        "colab": {
          "base_uri": "https://localhost:8080/"
        },
        "id": "vlbqZMNTu5Ks",
        "outputId": "26706c8f-42d0-4e04-8ba0-270340535046"
      },
      "outputs": [],
      "source": [
        "assert im_array_training.shape[0] == n_train_cases, \"missing train img\"\n",
        "assert im_array_testing.shape[0] == n_test_cases, \"missing test img\"\n",
        "\n",
        "print(f\"Loaded train images to array of shape {im_array_training.shape}\")\n",
        "print(f\"Loaded test images to array of shape {im_array_testing.shape}\")"
      ]
    },
    {
      "cell_type": "markdown",
      "metadata": {
        "id": "EJJ3e6BcwaSM"
      },
      "source": [
        "### Classification labels \n"
      ]
    },
    {
      "cell_type": "code",
      "execution_count": 9,
      "metadata": {
        "id": "WMMH-I5mys2n"
      },
      "outputs": [],
      "source": [
        "import numpy as np\n",
        "import pandas as pd\n",
        "\n",
        "LABELS_ROOT = \"Skin lesion data/SkinLesionTraining_GroundTruth.csv\"\n",
        "\n",
        "labels_data = pd.read_csv(LABELS_ROOT, header=None).values\n",
        "\n",
        "train_labels = labels_data[0:800, 1]\n",
        "test_labels = labels_data[800:900, 1]"
      ]
    },
    {
      "cell_type": "code",
      "execution_count": null,
      "metadata": {
        "colab": {
          "base_uri": "https://localhost:8080/"
        },
        "id": "Dyr0Hd4Vwol2",
        "outputId": "43d648eb-474c-453f-802f-92d042fbac2a"
      },
      "outputs": [],
      "source": [
        "assert train_labels.shape[0] == n_train_cases, \"missing train labels\"\n",
        "assert test_labels.shape[0] == n_test_cases, \"missing test labels\"\n",
        "\n",
        "print(f\"Loaded train labels to array of shape {train_labels.shape}\")\n",
        "print(f\"Loaded test labels to array of shape {test_labels.shape}\")"
      ]
    },
    {
      "cell_type": "code",
      "execution_count": 11,
      "metadata": {
        "id": "jLs9ga4A7ZgW"
      },
      "outputs": [],
      "source": [
        "train_labels_num = np.unique(train_labels, return_inverse=True)[1]\n",
        "test_labels_num = np.unique(test_labels, return_inverse=True)[1]"
      ]
    },
    {
      "cell_type": "markdown",
      "metadata": {
        "id": "KMyJiTUDwol2"
      },
      "source": [
        "# Train CNN"
      ]
    },
    {
      "cell_type": "code",
      "execution_count": 12,
      "metadata": {
        "id": "o7j6Jjbhwol3",
        "jupyter": {
          "source_hidden": true
        }
      },
      "outputs": [],
      "source": [
        "import numpy as np \n",
        "import os\n",
        "\n",
        "import skimage.io as io\n",
        "import skimage.transform as trans\n",
        "\n",
        "from tensorflow.keras.models import *\n",
        "from tensorflow.keras.layers import *\n",
        "from tensorflow.keras.optimizers import *\n",
        "from tensorflow.keras.callbacks import ModelCheckpoint, LearningRateScheduler\n",
        "from tensorflow.keras import backend as keras"
      ]
    },
    {
      "cell_type": "code",
      "execution_count": 14,
      "metadata": {
        "id": "gDZul0kQCoi6"
      },
      "outputs": [],
      "source": [
        "def cnn(pretrained_weights = None,input_size = (256,256,1), lr=1e-4):\n",
        "    inputs = Input(input_size)\n",
        "    \n",
        "    conv1 = Conv2D(64, 3, activation = 'relu', padding = 'same', kernel_initializer = 'he_normal', kernel_regularizer='l2')(inputs)\n",
        "    pool1 = MaxPooling2D(pool_size=(2, 2))(conv1)\n",
        "\n",
        "    conv2 = Conv2D(64, 3, activation = 'relu', padding = 'same', kernel_initializer = 'he_normal', kernel_regularizer='l2')(pool1)\n",
        "    pool2 = MaxPooling2D(pool_size=(2, 2))(conv2)\n",
        "\n",
        "    conv3 = Conv2D(64, 3, activation = 'relu', padding = 'same', kernel_initializer = 'he_normal', kernel_regularizer='l2')(pool2)\n",
        "    pool3 = MaxPooling2D(pool_size=(2, 2))(conv3)\n",
        "\n",
        "    flat1 = Flatten()(pool3)\n",
        "    \n",
        "    dense1 = Dense(256, activation='relu')(flat1)\n",
        "    # drop1 = Dropout(0.5)(dense1)\n",
        "    dense2 = Dense(1, activation='sigmoid')(dense1)\n",
        "\n",
        "    model = Model(inputs=inputs, outputs=dense2)\n",
        "\n",
        "    model.compile(optimizer = Adam(lr = lr),\n",
        "                  loss = 'binary_crossentropy',\n",
        "                  metrics = ['accuracy'])\n",
        "    \n",
        "    if(pretrained_weights):\n",
        "    \tmodel.load_weights(pretrained_weights)\n",
        "    \n",
        "    return model"
      ]
    },
    {
      "cell_type": "code",
      "execution_count": 15,
      "metadata": {
        "id": "yBbr-x50wol4"
      },
      "outputs": [],
      "source": [
        "par_batch_size = 10\n",
        "par_epochs = 50\n",
        "par_validation_split = 0.15\n",
        "par_learning_rate = 0.0001\n",
        "validationSplit = 0.15"
      ]
    },
    {
      "cell_type": "code",
      "execution_count": null,
      "metadata": {
        "colab": {
          "base_uri": "https://localhost:8080/"
        },
        "id": "zXOBVScBwol4",
        "outputId": "5daac500-328f-4f36-ab0b-8d343e2eb73e"
      },
      "outputs": [],
      "source": [
        "im_array_training = np.expand_dims(np.asarray(im_array_training, dtype = np.float), axis = 3)\n",
        "print(f\"Converted arrays to shape {im_array_training.shape} for inputs\")"
      ]
    },
    {
      "cell_type": "code",
      "execution_count": null,
      "metadata": {
        "colab": {
          "base_uri": "https://localhost:8080/"
        },
        "id": "6BQmS2Xk48x3",
        "outputId": "a32917a6-c750-4147-ba34-0f3f9f0b34c9"
      },
      "outputs": [],
      "source": [
        "train_labels_num = train_labels_num.reshape((800,1,1))\n",
        "print(f\"Converted arrays to shape {train_labels_num.shape} for targets.\")"
      ]
    },
    {
      "cell_type": "code",
      "execution_count": null,
      "metadata": {
        "colab": {
          "base_uri": "https://localhost:8080/"
        },
        "id": "_qNtYrY1wol4",
        "outputId": "2aa9ec1b-7f73-486b-c29d-bdc0955e9750"
      },
      "outputs": [],
      "source": [
        "model = cnn(input_size = (256, 256, 1), lr=par_learning_rate)"
      ]
    },
    {
      "cell_type": "code",
      "execution_count": 19,
      "metadata": {
        "colab": {
          "base_uri": "https://localhost:8080/"
        },
        "id": "Q0jrJLrp48Of",
        "outputId": "b6613d57-d22f-492e-fa5c-c0e7bb40dbeb"
      },
      "outputs": [
        {
          "name": "stdout",
          "output_type": "stream",
          "text": [
            "Model: \"model\"\n",
            "_________________________________________________________________\n",
            " Layer (type)                Output Shape              Param #   \n",
            "=================================================================\n",
            " input_1 (InputLayer)        [(None, 256, 256, 1)]     0         \n",
            "                                                                 \n",
            " conv2d (Conv2D)             (None, 256, 256, 64)      640       \n",
            "                                                                 \n",
            " max_pooling2d (MaxPooling2D  (None, 128, 128, 64)     0         \n",
            " )                                                               \n",
            "                                                                 \n",
            " conv2d_1 (Conv2D)           (None, 128, 128, 64)      36928     \n",
            "                                                                 \n",
            " max_pooling2d_1 (MaxPooling  (None, 64, 64, 64)       0         \n",
            " 2D)                                                             \n",
            "                                                                 \n",
            " conv2d_2 (Conv2D)           (None, 64, 64, 64)        36928     \n",
            "                                                                 \n",
            " max_pooling2d_2 (MaxPooling  (None, 32, 32, 64)       0         \n",
            " 2D)                                                             \n",
            "                                                                 \n",
            " flatten (Flatten)           (None, 65536)             0         \n",
            "                                                                 \n",
            " dense (Dense)               (None, 256)               16777472  \n",
            "                                                                 \n",
            " dense_1 (Dense)             (None, 1)                 257       \n",
            "                                                                 \n",
            "=================================================================\n",
            "Total params: 16,852,225\n",
            "Trainable params: 16,852,225\n",
            "Non-trainable params: 0\n",
            "_________________________________________________________________\n"
          ]
        }
      ],
      "source": [
        "model.summary()"
      ]
    },
    {
      "cell_type": "code",
      "execution_count": null,
      "metadata": {
        "colab": {
          "base_uri": "https://localhost:8080/"
        },
        "id": "lO-F3Iq83DKL",
        "outputId": "37596cc3-80f3-4597-c3f2-2777358acc8c"
      },
      "outputs": [],
      "source": [
        "print(f'train img shape:', im_array_training.shape)\n",
        "print(f'train labels shape:', train_labels_num.shape)"
      ]
    },
    {
      "cell_type": "code",
      "execution_count": null,
      "metadata": {
        "colab": {
          "base_uri": "https://localhost:8080/"
        },
        "collapsed": true,
        "id": "nEDb_wrIwol5",
        "jupyter": {
          "outputs_hidden": true
        },
        "outputId": "71be0fde-58cc-4048-ef02-746f42bd26ab"
      },
      "outputs": [],
      "source": [
        "history = model.fit(im_array_training, \n",
        "                    train_labels_num, \n",
        "                    batch_size=par_batch_size, \n",
        "                    epochs=par_epochs, \n",
        "                    validation_split=par_validation_split)"
      ]
    },
    {
      "cell_type": "code",
      "execution_count": 22,
      "metadata": {
        "id": "R7Fc_wrnwol5"
      },
      "outputs": [],
      "source": [
        "model.save('resultCNN_lesion.hdf5')"
      ]
    },
    {
      "cell_type": "code",
      "execution_count": null,
      "metadata": {
        "colab": {
          "base_uri": "https://localhost:8080/"
        },
        "id": "ZdX3qsabwol5",
        "outputId": "700fc2f1-a4d1-465c-9929-9dbfb7d76f73"
      },
      "outputs": [],
      "source": [
        "print(history.history.keys())"
      ]
    },
    {
      "cell_type": "code",
      "execution_count": null,
      "metadata": {
        "colab": {
          "base_uri": "https://localhost:8080/",
          "height": 573
        },
        "id": "rijQdBqhwol6",
        "outputId": "680f1e37-acf2-425c-b981-95abb88f054b"
      },
      "outputs": [],
      "source": [
        "# summarize history for accuracy\n",
        "plt.figure(figsize=(16, 4))\n",
        "plt.plot(history.history['accuracy'])\n",
        "plt.plot(history.history['val_accuracy'])\n",
        "plt.title('model accuracy')\n",
        "plt.ylabel('accuracy')\n",
        "plt.xlabel('epoch')\n",
        "plt.legend(['train', 'val'], loc='upper left')\n",
        "plt.show()\n",
        "# summarize history for loss\n",
        "plt.figure(figsize=(16, 4))\n",
        "plt.plot(history.history['loss'])\n",
        "plt.plot(history.history['val_loss'])\n",
        "plt.title('model loss')\n",
        "plt.ylabel('loss')\n",
        "plt.xlabel('epoch')\n",
        "plt.legend(['train', 'val'], loc='upper left')\n",
        "plt.show()"
      ]
    },
    {
      "cell_type": "markdown",
      "metadata": {
        "id": "o3vvizqdwol6"
      },
      "source": [
        "# Prediction and evaluation"
      ]
    },
    {
      "cell_type": "code",
      "execution_count": null,
      "metadata": {
        "colab": {
          "base_uri": "https://localhost:8080/"
        },
        "id": "YhYAK8dJwol6",
        "outputId": "ad55bbf7-fcac-4744-983b-82706d66f5cd"
      },
      "outputs": [],
      "source": [
        "from tensorflow.keras.models import *\n",
        "\n",
        "model = load_model('resultCNN_lesion.hdf5')\n",
        "results = model.predict(np.expand_dims(np.asarray(im_array_testing[:10]), axis=3))"
      ]
    },
    {
      "cell_type": "code",
      "execution_count": null,
      "metadata": {
        "colab": {
          "base_uri": "https://localhost:8080/"
        },
        "id": "WbJPxPVWwol7",
        "outputId": "c669a622-6f7a-407c-ff7b-79f3c8610a2b"
      },
      "outputs": [],
      "source": [
        "all_results = model.predict(np.expand_dims(np.asarray(im_array_testing), axis=3))"
      ]
    },
    {
      "cell_type": "code",
      "execution_count": null,
      "metadata": {
        "colab": {
          "base_uri": "https://localhost:8080/"
        },
        "id": "dLQzRNRFwol7",
        "outputId": "a7b3e2c0-3f92-4c0d-8e81-6f1f90855be0"
      },
      "outputs": [],
      "source": [
        "print(all_results.shape, im_array_testing.shape)"
      ]
    },
    {
      "cell_type": "code",
      "execution_count": 28,
      "metadata": {
        "id": "jxhUQ5JFs9-A"
      },
      "outputs": [],
      "source": [
        "all_results = np.where(all_results > 0.5, 1, 0) "
      ]
    },
    {
      "cell_type": "code",
      "execution_count": null,
      "metadata": {
        "colab": {
          "base_uri": "https://localhost:8080/",
          "height": 363
        },
        "id": "VLO_mVfo2FY_",
        "outputId": "b21b0504-cb52-4faa-8e8c-7dbfa0e524c3"
      },
      "outputs": [],
      "source": [
        "import pandas as pd\n",
        "\n",
        "df = pd.DataFrame()\n",
        "df['target'] = test_labels_num\n",
        "df['pred'] = all_results\n",
        "df.head(10)"
      ]
    },
    {
      "cell_type": "code",
      "execution_count": null,
      "metadata": {
        "colab": {
          "base_uri": "https://localhost:8080/"
        },
        "id": "ehtRlsSTshSG",
        "outputId": "933ee96c-e806-4f82-9961-83ec381b963b"
      },
      "outputs": [],
      "source": [
        "from sklearn.metrics import confusion_matrix\n",
        "\n",
        "cm = confusion_matrix(test_labels_num, all_results.astype(int))\n",
        "print(cm)"
      ]
    },
    {
      "cell_type": "code",
      "execution_count": null,
      "metadata": {
        "colab": {
          "base_uri": "https://localhost:8080/"
        },
        "id": "wyRH8U_TQTC2",
        "outputId": "1310ae7c-908f-4e48-b7c5-10e5243f0adc"
      },
      "outputs": [],
      "source": [
        "total=sum(sum(cm))\n",
        "accuracy1=(cm[0,0]+cm[1,1])/total\n",
        "print ('Accuracy : ', accuracy1)\n",
        "\n",
        "sensitivity1 = cm[0,0]/(cm[0,0]+cm[0,1])\n",
        "print('Sensitivity : ', sensitivity1 )\n",
        "\n",
        "specificity1 = cm[1,1]/(cm[1,0]+cm[1,1])\n",
        "print('Specificity : ', specificity1)"
      ]
    }
  ],
  "metadata": {
    "accelerator": "GPU",
    "colab": {
      "machine_shape": "hm",
      "provenance": []
    },
    "gpuClass": "premium",
    "kernelspec": {
      "display_name": "Python 3.8.5 ('base')",
      "language": "python",
      "name": "python3"
    },
    "language_info": {
      "codemirror_mode": {
        "name": "ipython",
        "version": 3
      },
      "file_extension": ".py",
      "mimetype": "text/x-python",
      "name": "python",
      "nbconvert_exporter": "python",
      "pygments_lexer": "ipython3",
      "version": "3.8.5"
    },
    "vscode": {
      "interpreter": {
        "hash": "1e99c38aa1f90275648d39e5d0ff053229f58b50da7e937779573086ee2fdf52"
      }
    }
  },
  "nbformat": 4,
  "nbformat_minor": 0
}
